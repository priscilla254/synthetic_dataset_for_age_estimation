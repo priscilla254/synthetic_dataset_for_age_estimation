{
  "nbformat": 4,
  "nbformat_minor": 0,
  "metadata": {
    "colab": {
      "provenance": [],
      "gpuType": "T4",
      "authorship_tag": "ABX9TyMu2bWOvzayUPFrGnAXLru5",
      "include_colab_link": true
    },
    "kernelspec": {
      "name": "python3",
      "display_name": "Python 3"
    },
    "language_info": {
      "name": "python"
    },
    "accelerator": "GPU"
  },
  "cells": [
    {
      "cell_type": "markdown",
      "metadata": {
        "id": "view-in-github",
        "colab_type": "text"
      },
      "source": [
        "<a href=\"https://colab.research.google.com/github/priscilla254/synthetic_dataset_for_age_estimation/blob/main/image_generation.ipynb\" target=\"_parent\"><img src=\"https://colab.research.google.com/assets/colab-badge.svg\" alt=\"Open In Colab\"/></a>"
      ]
    },
    {
      "cell_type": "code",
      "execution_count": 1,
      "metadata": {
        "colab": {
          "base_uri": "https://localhost:8080/"
        },
        "id": "UyBYvh3542cr",
        "outputId": "e13091ff-a71f-42d6-e036-14c82dd29d40"
      },
      "outputs": [
        {
          "output_type": "stream",
          "name": "stdout",
          "text": [
            "Mounted at /content/drive\n"
          ]
        }
      ],
      "source": [
        "from google.colab import drive\n",
        "drive.mount('/content/drive', force_remount=True)\n",
        "\n",
        "\n"
      ]
    },
    {
      "cell_type": "code",
      "source": [
        "# Upgrade numpy to 2.x and align OpenCV\n",
        "%pip install -U \"numpy>=2.1,<2.3\"\n",
        "%pip uninstall -y opencv-python opencv-contrib-python  # avoid multiple OpenCVs\n",
        "%pip install -U opencv-python-headless==4.12.0.88\n",
        "\n",
        "# If you don't actually use spaCy/thinc, you can remove them to avoid future nags:\n",
        "# %pip uninstall -y spacy thinc"
      ],
      "metadata": {
        "colab": {
          "base_uri": "https://localhost:8080/"
        },
        "id": "N38LMYA15bJS",
        "outputId": "dd17f894-5697-40b6-feda-706224bb86fe"
      },
      "execution_count": 2,
      "outputs": [
        {
          "output_type": "stream",
          "name": "stdout",
          "text": [
            "Requirement already satisfied: numpy<2.3,>=2.1 in /usr/local/lib/python3.12/dist-packages (2.2.6)\n",
            "\u001b[33mWARNING: Skipping opencv-python as it is not installed.\u001b[0m\u001b[33m\n",
            "\u001b[0m\u001b[33mWARNING: Skipping opencv-contrib-python as it is not installed.\u001b[0m\u001b[33m\n",
            "\u001b[0mRequirement already satisfied: opencv-python-headless==4.12.0.88 in /usr/local/lib/python3.12/dist-packages (4.12.0.88)\n",
            "Requirement already satisfied: numpy<2.3.0,>=2 in /usr/local/lib/python3.12/dist-packages (from opencv-python-headless==4.12.0.88) (2.2.6)\n"
          ]
        }
      ]
    },
    {
      "cell_type": "code",
      "source": [
        "import numpy, cv2\n",
        "print(numpy.__version__)  # should be 2.x\n",
        "\n"
      ],
      "metadata": {
        "colab": {
          "base_uri": "https://localhost:8080/"
        },
        "id": "tjO7oZFy6JXg",
        "outputId": "8ba33d71-7f2a-472f-ad26-e668c356ff5c"
      },
      "execution_count": 3,
      "outputs": [
        {
          "output_type": "stream",
          "name": "stdout",
          "text": [
            "2.2.6\n"
          ]
        }
      ]
    },
    {
      "cell_type": "code",
      "source": [
        "%pip -q install diffusers==0.30.0 transformers==4.43.3 accelerate==0.33.0 safetensors"
      ],
      "metadata": {
        "colab": {
          "base_uri": "https://localhost:8080/"
        },
        "id": "LWik83UD6gk4",
        "outputId": "8a3353cd-c122-4991-f436-40b137699408"
      },
      "execution_count": 4,
      "outputs": [
        {
          "output_type": "stream",
          "name": "stdout",
          "text": [
            "\u001b[31mERROR: pip's dependency resolver does not currently take into account all the packages that are installed. This behaviour is the source of the following dependency conflicts.\n",
            "dopamine-rl 4.1.2 requires opencv-python>=3.4.8.29, which is not installed.\n",
            "opencv-python-headless 4.12.0.88 requires numpy<2.3.0,>=2; python_version >= \"3.9\", but you have numpy 1.26.4 which is incompatible.\n",
            "thinc 8.3.6 requires numpy<3.0.0,>=2.0.0, but you have numpy 1.26.4 which is incompatible.\u001b[0m\u001b[31m\n",
            "\u001b[0m"
          ]
        }
      ]
    },
    {
      "cell_type": "code",
      "source": [
        "!pwd"
      ],
      "metadata": {
        "colab": {
          "base_uri": "https://localhost:8080/"
        },
        "id": "Wbbmfv4o64p9",
        "outputId": "a60393a8-3a14-49d1-c641-963aaa2c2c84"
      },
      "execution_count": 5,
      "outputs": [
        {
          "output_type": "stream",
          "name": "stdout",
          "text": [
            "/content\n"
          ]
        }
      ]
    },
    {
      "cell_type": "code",
      "source": [
        "# Clean out any incompatible installs\n",
        "%pip uninstall -y transformers peft diffusers\n",
        "\n",
        "# Reinstall compatible set (works well with SDXL and Diffusers 0.30)\n",
        "%pip install -U diffusers==0.30.0 accelerate==0.33.0 safetensors\n",
        "%pip install -U \"transformers>=4.45,<5\" \"peft>=0.11.1\""
      ],
      "metadata": {
        "colab": {
          "base_uri": "https://localhost:8080/"
        },
        "id": "ZSeweHv0EgS4",
        "outputId": "3c2291bb-04aa-4471-e55c-eb1d3f4861bd"
      },
      "execution_count": 6,
      "outputs": [
        {
          "output_type": "stream",
          "name": "stdout",
          "text": [
            "Found existing installation: transformers 4.43.3\n",
            "Uninstalling transformers-4.43.3:\n",
            "  Successfully uninstalled transformers-4.43.3\n",
            "Found existing installation: peft 0.17.1\n",
            "Uninstalling peft-0.17.1:\n",
            "  Successfully uninstalled peft-0.17.1\n",
            "Found existing installation: diffusers 0.30.0\n",
            "Uninstalling diffusers-0.30.0:\n",
            "  Successfully uninstalled diffusers-0.30.0\n",
            "Collecting diffusers==0.30.0\n",
            "  Using cached diffusers-0.30.0-py3-none-any.whl.metadata (18 kB)\n",
            "Requirement already satisfied: accelerate==0.33.0 in /usr/local/lib/python3.12/dist-packages (0.33.0)\n",
            "Requirement already satisfied: safetensors in /usr/local/lib/python3.12/dist-packages (0.6.2)\n",
            "Requirement already satisfied: importlib-metadata in /usr/local/lib/python3.12/dist-packages (from diffusers==0.30.0) (8.7.0)\n",
            "Requirement already satisfied: filelock in /usr/local/lib/python3.12/dist-packages (from diffusers==0.30.0) (3.19.1)\n",
            "Requirement already satisfied: huggingface-hub>=0.23.2 in /usr/local/lib/python3.12/dist-packages (from diffusers==0.30.0) (0.35.0)\n",
            "Requirement already satisfied: numpy in /usr/local/lib/python3.12/dist-packages (from diffusers==0.30.0) (1.26.4)\n",
            "Requirement already satisfied: regex!=2019.12.17 in /usr/local/lib/python3.12/dist-packages (from diffusers==0.30.0) (2024.11.6)\n",
            "Requirement already satisfied: requests in /usr/local/lib/python3.12/dist-packages (from diffusers==0.30.0) (2.32.4)\n",
            "Requirement already satisfied: Pillow in /usr/local/lib/python3.12/dist-packages (from diffusers==0.30.0) (11.3.0)\n",
            "Requirement already satisfied: packaging>=20.0 in /usr/local/lib/python3.12/dist-packages (from accelerate==0.33.0) (25.0)\n",
            "Requirement already satisfied: psutil in /usr/local/lib/python3.12/dist-packages (from accelerate==0.33.0) (5.9.5)\n",
            "Requirement already satisfied: pyyaml in /usr/local/lib/python3.12/dist-packages (from accelerate==0.33.0) (6.0.2)\n",
            "Requirement already satisfied: torch>=1.10.0 in /usr/local/lib/python3.12/dist-packages (from accelerate==0.33.0) (2.8.0+cu126)\n",
            "Requirement already satisfied: fsspec>=2023.5.0 in /usr/local/lib/python3.12/dist-packages (from huggingface-hub>=0.23.2->diffusers==0.30.0) (2025.3.0)\n",
            "Requirement already satisfied: tqdm>=4.42.1 in /usr/local/lib/python3.12/dist-packages (from huggingface-hub>=0.23.2->diffusers==0.30.0) (4.67.1)\n",
            "Requirement already satisfied: typing-extensions>=3.7.4.3 in /usr/local/lib/python3.12/dist-packages (from huggingface-hub>=0.23.2->diffusers==0.30.0) (4.15.0)\n",
            "Requirement already satisfied: hf-xet<2.0.0,>=1.1.3 in /usr/local/lib/python3.12/dist-packages (from huggingface-hub>=0.23.2->diffusers==0.30.0) (1.1.10)\n",
            "Requirement already satisfied: setuptools in /usr/local/lib/python3.12/dist-packages (from torch>=1.10.0->accelerate==0.33.0) (75.2.0)\n",
            "Requirement already satisfied: sympy>=1.13.3 in /usr/local/lib/python3.12/dist-packages (from torch>=1.10.0->accelerate==0.33.0) (1.13.3)\n",
            "Requirement already satisfied: networkx in /usr/local/lib/python3.12/dist-packages (from torch>=1.10.0->accelerate==0.33.0) (3.5)\n",
            "Requirement already satisfied: jinja2 in /usr/local/lib/python3.12/dist-packages (from torch>=1.10.0->accelerate==0.33.0) (3.1.6)\n",
            "Requirement already satisfied: nvidia-cuda-nvrtc-cu12==12.6.77 in /usr/local/lib/python3.12/dist-packages (from torch>=1.10.0->accelerate==0.33.0) (12.6.77)\n",
            "Requirement already satisfied: nvidia-cuda-runtime-cu12==12.6.77 in /usr/local/lib/python3.12/dist-packages (from torch>=1.10.0->accelerate==0.33.0) (12.6.77)\n",
            "Requirement already satisfied: nvidia-cuda-cupti-cu12==12.6.80 in /usr/local/lib/python3.12/dist-packages (from torch>=1.10.0->accelerate==0.33.0) (12.6.80)\n",
            "Requirement already satisfied: nvidia-cudnn-cu12==9.10.2.21 in /usr/local/lib/python3.12/dist-packages (from torch>=1.10.0->accelerate==0.33.0) (9.10.2.21)\n",
            "Requirement already satisfied: nvidia-cublas-cu12==12.6.4.1 in /usr/local/lib/python3.12/dist-packages (from torch>=1.10.0->accelerate==0.33.0) (12.6.4.1)\n",
            "Requirement already satisfied: nvidia-cufft-cu12==11.3.0.4 in /usr/local/lib/python3.12/dist-packages (from torch>=1.10.0->accelerate==0.33.0) (11.3.0.4)\n",
            "Requirement already satisfied: nvidia-curand-cu12==10.3.7.77 in /usr/local/lib/python3.12/dist-packages (from torch>=1.10.0->accelerate==0.33.0) (10.3.7.77)\n",
            "Requirement already satisfied: nvidia-cusolver-cu12==11.7.1.2 in /usr/local/lib/python3.12/dist-packages (from torch>=1.10.0->accelerate==0.33.0) (11.7.1.2)\n",
            "Requirement already satisfied: nvidia-cusparse-cu12==12.5.4.2 in /usr/local/lib/python3.12/dist-packages (from torch>=1.10.0->accelerate==0.33.0) (12.5.4.2)\n",
            "Requirement already satisfied: nvidia-cusparselt-cu12==0.7.1 in /usr/local/lib/python3.12/dist-packages (from torch>=1.10.0->accelerate==0.33.0) (0.7.1)\n",
            "Requirement already satisfied: nvidia-nccl-cu12==2.27.3 in /usr/local/lib/python3.12/dist-packages (from torch>=1.10.0->accelerate==0.33.0) (2.27.3)\n",
            "Requirement already satisfied: nvidia-nvtx-cu12==12.6.77 in /usr/local/lib/python3.12/dist-packages (from torch>=1.10.0->accelerate==0.33.0) (12.6.77)\n",
            "Requirement already satisfied: nvidia-nvjitlink-cu12==12.6.85 in /usr/local/lib/python3.12/dist-packages (from torch>=1.10.0->accelerate==0.33.0) (12.6.85)\n",
            "Requirement already satisfied: nvidia-cufile-cu12==1.11.1.6 in /usr/local/lib/python3.12/dist-packages (from torch>=1.10.0->accelerate==0.33.0) (1.11.1.6)\n",
            "Requirement already satisfied: triton==3.4.0 in /usr/local/lib/python3.12/dist-packages (from torch>=1.10.0->accelerate==0.33.0) (3.4.0)\n",
            "Requirement already satisfied: zipp>=3.20 in /usr/local/lib/python3.12/dist-packages (from importlib-metadata->diffusers==0.30.0) (3.23.0)\n",
            "Requirement already satisfied: charset_normalizer<4,>=2 in /usr/local/lib/python3.12/dist-packages (from requests->diffusers==0.30.0) (3.4.3)\n",
            "Requirement already satisfied: idna<4,>=2.5 in /usr/local/lib/python3.12/dist-packages (from requests->diffusers==0.30.0) (3.10)\n",
            "Requirement already satisfied: urllib3<3,>=1.21.1 in /usr/local/lib/python3.12/dist-packages (from requests->diffusers==0.30.0) (2.5.0)\n",
            "Requirement already satisfied: certifi>=2017.4.17 in /usr/local/lib/python3.12/dist-packages (from requests->diffusers==0.30.0) (2025.8.3)\n",
            "Requirement already satisfied: mpmath<1.4,>=1.1.0 in /usr/local/lib/python3.12/dist-packages (from sympy>=1.13.3->torch>=1.10.0->accelerate==0.33.0) (1.3.0)\n",
            "Requirement already satisfied: MarkupSafe>=2.0 in /usr/local/lib/python3.12/dist-packages (from jinja2->torch>=1.10.0->accelerate==0.33.0) (3.0.2)\n",
            "Using cached diffusers-0.30.0-py3-none-any.whl (2.6 MB)\n",
            "Installing collected packages: diffusers\n",
            "Successfully installed diffusers-0.30.0\n",
            "Collecting transformers<5,>=4.45\n",
            "  Using cached transformers-4.56.2-py3-none-any.whl.metadata (40 kB)\n",
            "Collecting peft>=0.11.1\n",
            "  Using cached peft-0.17.1-py3-none-any.whl.metadata (14 kB)\n",
            "Requirement already satisfied: filelock in /usr/local/lib/python3.12/dist-packages (from transformers<5,>=4.45) (3.19.1)\n",
            "Requirement already satisfied: huggingface-hub<1.0,>=0.34.0 in /usr/local/lib/python3.12/dist-packages (from transformers<5,>=4.45) (0.35.0)\n",
            "Requirement already satisfied: numpy>=1.17 in /usr/local/lib/python3.12/dist-packages (from transformers<5,>=4.45) (1.26.4)\n",
            "Requirement already satisfied: packaging>=20.0 in /usr/local/lib/python3.12/dist-packages (from transformers<5,>=4.45) (25.0)\n",
            "Requirement already satisfied: pyyaml>=5.1 in /usr/local/lib/python3.12/dist-packages (from transformers<5,>=4.45) (6.0.2)\n",
            "Requirement already satisfied: regex!=2019.12.17 in /usr/local/lib/python3.12/dist-packages (from transformers<5,>=4.45) (2024.11.6)\n",
            "Requirement already satisfied: requests in /usr/local/lib/python3.12/dist-packages (from transformers<5,>=4.45) (2.32.4)\n",
            "Collecting tokenizers<=0.23.0,>=0.22.0 (from transformers<5,>=4.45)\n",
            "  Using cached tokenizers-0.22.1-cp39-abi3-manylinux_2_17_x86_64.manylinux2014_x86_64.whl.metadata (6.8 kB)\n",
            "Requirement already satisfied: safetensors>=0.4.3 in /usr/local/lib/python3.12/dist-packages (from transformers<5,>=4.45) (0.6.2)\n",
            "Requirement already satisfied: tqdm>=4.27 in /usr/local/lib/python3.12/dist-packages (from transformers<5,>=4.45) (4.67.1)\n",
            "Requirement already satisfied: psutil in /usr/local/lib/python3.12/dist-packages (from peft>=0.11.1) (5.9.5)\n",
            "Requirement already satisfied: torch>=1.13.0 in /usr/local/lib/python3.12/dist-packages (from peft>=0.11.1) (2.8.0+cu126)\n",
            "Requirement already satisfied: accelerate>=0.21.0 in /usr/local/lib/python3.12/dist-packages (from peft>=0.11.1) (0.33.0)\n",
            "Requirement already satisfied: fsspec>=2023.5.0 in /usr/local/lib/python3.12/dist-packages (from huggingface-hub<1.0,>=0.34.0->transformers<5,>=4.45) (2025.3.0)\n",
            "Requirement already satisfied: typing-extensions>=3.7.4.3 in /usr/local/lib/python3.12/dist-packages (from huggingface-hub<1.0,>=0.34.0->transformers<5,>=4.45) (4.15.0)\n",
            "Requirement already satisfied: hf-xet<2.0.0,>=1.1.3 in /usr/local/lib/python3.12/dist-packages (from huggingface-hub<1.0,>=0.34.0->transformers<5,>=4.45) (1.1.10)\n",
            "Requirement already satisfied: setuptools in /usr/local/lib/python3.12/dist-packages (from torch>=1.13.0->peft>=0.11.1) (75.2.0)\n",
            "Requirement already satisfied: sympy>=1.13.3 in /usr/local/lib/python3.12/dist-packages (from torch>=1.13.0->peft>=0.11.1) (1.13.3)\n",
            "Requirement already satisfied: networkx in /usr/local/lib/python3.12/dist-packages (from torch>=1.13.0->peft>=0.11.1) (3.5)\n",
            "Requirement already satisfied: jinja2 in /usr/local/lib/python3.12/dist-packages (from torch>=1.13.0->peft>=0.11.1) (3.1.6)\n",
            "Requirement already satisfied: nvidia-cuda-nvrtc-cu12==12.6.77 in /usr/local/lib/python3.12/dist-packages (from torch>=1.13.0->peft>=0.11.1) (12.6.77)\n",
            "Requirement already satisfied: nvidia-cuda-runtime-cu12==12.6.77 in /usr/local/lib/python3.12/dist-packages (from torch>=1.13.0->peft>=0.11.1) (12.6.77)\n",
            "Requirement already satisfied: nvidia-cuda-cupti-cu12==12.6.80 in /usr/local/lib/python3.12/dist-packages (from torch>=1.13.0->peft>=0.11.1) (12.6.80)\n",
            "Requirement already satisfied: nvidia-cudnn-cu12==9.10.2.21 in /usr/local/lib/python3.12/dist-packages (from torch>=1.13.0->peft>=0.11.1) (9.10.2.21)\n",
            "Requirement already satisfied: nvidia-cublas-cu12==12.6.4.1 in /usr/local/lib/python3.12/dist-packages (from torch>=1.13.0->peft>=0.11.1) (12.6.4.1)\n",
            "Requirement already satisfied: nvidia-cufft-cu12==11.3.0.4 in /usr/local/lib/python3.12/dist-packages (from torch>=1.13.0->peft>=0.11.1) (11.3.0.4)\n",
            "Requirement already satisfied: nvidia-curand-cu12==10.3.7.77 in /usr/local/lib/python3.12/dist-packages (from torch>=1.13.0->peft>=0.11.1) (10.3.7.77)\n",
            "Requirement already satisfied: nvidia-cusolver-cu12==11.7.1.2 in /usr/local/lib/python3.12/dist-packages (from torch>=1.13.0->peft>=0.11.1) (11.7.1.2)\n",
            "Requirement already satisfied: nvidia-cusparse-cu12==12.5.4.2 in /usr/local/lib/python3.12/dist-packages (from torch>=1.13.0->peft>=0.11.1) (12.5.4.2)\n",
            "Requirement already satisfied: nvidia-cusparselt-cu12==0.7.1 in /usr/local/lib/python3.12/dist-packages (from torch>=1.13.0->peft>=0.11.1) (0.7.1)\n",
            "Requirement already satisfied: nvidia-nccl-cu12==2.27.3 in /usr/local/lib/python3.12/dist-packages (from torch>=1.13.0->peft>=0.11.1) (2.27.3)\n",
            "Requirement already satisfied: nvidia-nvtx-cu12==12.6.77 in /usr/local/lib/python3.12/dist-packages (from torch>=1.13.0->peft>=0.11.1) (12.6.77)\n",
            "Requirement already satisfied: nvidia-nvjitlink-cu12==12.6.85 in /usr/local/lib/python3.12/dist-packages (from torch>=1.13.0->peft>=0.11.1) (12.6.85)\n",
            "Requirement already satisfied: nvidia-cufile-cu12==1.11.1.6 in /usr/local/lib/python3.12/dist-packages (from torch>=1.13.0->peft>=0.11.1) (1.11.1.6)\n",
            "Requirement already satisfied: triton==3.4.0 in /usr/local/lib/python3.12/dist-packages (from torch>=1.13.0->peft>=0.11.1) (3.4.0)\n",
            "Requirement already satisfied: charset_normalizer<4,>=2 in /usr/local/lib/python3.12/dist-packages (from requests->transformers<5,>=4.45) (3.4.3)\n",
            "Requirement already satisfied: idna<4,>=2.5 in /usr/local/lib/python3.12/dist-packages (from requests->transformers<5,>=4.45) (3.10)\n",
            "Requirement already satisfied: urllib3<3,>=1.21.1 in /usr/local/lib/python3.12/dist-packages (from requests->transformers<5,>=4.45) (2.5.0)\n",
            "Requirement already satisfied: certifi>=2017.4.17 in /usr/local/lib/python3.12/dist-packages (from requests->transformers<5,>=4.45) (2025.8.3)\n",
            "Requirement already satisfied: mpmath<1.4,>=1.1.0 in /usr/local/lib/python3.12/dist-packages (from sympy>=1.13.3->torch>=1.13.0->peft>=0.11.1) (1.3.0)\n",
            "Requirement already satisfied: MarkupSafe>=2.0 in /usr/local/lib/python3.12/dist-packages (from jinja2->torch>=1.13.0->peft>=0.11.1) (3.0.2)\n",
            "Using cached transformers-4.56.2-py3-none-any.whl (11.6 MB)\n",
            "Using cached peft-0.17.1-py3-none-any.whl (504 kB)\n",
            "Using cached tokenizers-0.22.1-cp39-abi3-manylinux_2_17_x86_64.manylinux2014_x86_64.whl (3.3 MB)\n",
            "Installing collected packages: tokenizers, transformers, peft\n",
            "  Attempting uninstall: tokenizers\n",
            "    Found existing installation: tokenizers 0.19.1\n",
            "    Uninstalling tokenizers-0.19.1:\n",
            "      Successfully uninstalled tokenizers-0.19.1\n",
            "Successfully installed peft-0.17.1 tokenizers-0.22.1 transformers-4.56.2\n"
          ]
        }
      ]
    },
    {
      "cell_type": "code",
      "source": [
        "!git clone https://github.com/priscilla254/synthetic_dataset_for_age_estimation.git"
      ],
      "metadata": {
        "colab": {
          "base_uri": "https://localhost:8080/"
        },
        "id": "awXV40Yl70tI",
        "outputId": "3258f7f1-fe7a-45b6-f6a7-5a5c9a467599"
      },
      "execution_count": 7,
      "outputs": [
        {
          "output_type": "stream",
          "name": "stdout",
          "text": [
            "fatal: destination path 'synthetic_dataset_for_age_estimation' already exists and is not an empty directory.\n"
          ]
        }
      ]
    },
    {
      "cell_type": "code",
      "source": [
        "pwd"
      ],
      "metadata": {
        "colab": {
          "base_uri": "https://localhost:8080/",
          "height": 36
        },
        "id": "lw4EtsYmOFTc",
        "outputId": "29a196db-539d-4dd5-b9cc-fd3fff8ac585"
      },
      "execution_count": 8,
      "outputs": [
        {
          "output_type": "execute_result",
          "data": {
            "text/plain": [
              "'/content'"
            ],
            "application/vnd.google.colaboratory.intrinsic+json": {
              "type": "string"
            }
          },
          "metadata": {},
          "execution_count": 8
        }
      ]
    },
    {
      "cell_type": "code",
      "source": [
        "cd synthetic_dataset_for_age_estimation/"
      ],
      "metadata": {
        "colab": {
          "base_uri": "https://localhost:8080/"
        },
        "id": "9NlTsZjoOHTW",
        "outputId": "789134aa-a68e-4821-8941-8d2701c371b6"
      },
      "execution_count": 9,
      "outputs": [
        {
          "output_type": "stream",
          "name": "stdout",
          "text": [
            "/content/synthetic_dataset_for_age_estimation\n"
          ]
        }
      ]
    },
    {
      "cell_type": "code",
      "source": [
        "!git pull origin main"
      ],
      "metadata": {
        "colab": {
          "base_uri": "https://localhost:8080/"
        },
        "id": "6PsyoLqyNEFg",
        "outputId": "8200356b-f600-4b31-c5a1-465ab7fc983b"
      },
      "execution_count": 10,
      "outputs": [
        {
          "output_type": "stream",
          "name": "stdout",
          "text": [
            "remote: Enumerating objects: 6, done.\u001b[K\n",
            "remote: Counting objects:  16% (1/6)\u001b[K\rremote: Counting objects:  33% (2/6)\u001b[K\rremote: Counting objects:  50% (3/6)\u001b[K\rremote: Counting objects:  66% (4/6)\u001b[K\rremote: Counting objects:  83% (5/6)\u001b[K\rremote: Counting objects: 100% (6/6)\u001b[K\rremote: Counting objects: 100% (6/6), done.\u001b[K\n",
            "remote: Compressing objects:  33% (1/3)\u001b[K\rremote: Compressing objects:  66% (2/3)\u001b[K\rremote: Compressing objects: 100% (3/3)\u001b[K\rremote: Compressing objects: 100% (3/3), done.\u001b[K\n",
            "remote: Total 4 (delta 1), reused 4 (delta 1), pack-reused 0 (from 0)\u001b[K\n",
            "Unpacking objects:  25% (1/4)\rUnpacking objects:  50% (2/4)\rUnpacking objects:  75% (3/4)\rUnpacking objects: 100% (4/4)\rUnpacking objects: 100% (4/4), 3.13 KiB | 3.13 MiB/s, done.\n",
            "From https://github.com/priscilla254/synthetic_dataset_for_age_estimation\n",
            " * branch            main       -> FETCH_HEAD\n",
            "   c82645c..351df34  main       -> origin/main\n",
            "Updating c82645c..351df34\n",
            "Fast-forward\n",
            " scripts/generate_sdxl_passport_variants.py | 181 \u001b[32m+++++++++++++++++++++++++++++\u001b[m\n",
            " 1 file changed, 181 insertions(+)\n",
            " create mode 100644 scripts/generate_sdxl_passport_variants.py\n"
          ]
        }
      ]
    },
    {
      "cell_type": "code",
      "source": [
        "ls scripts/"
      ],
      "metadata": {
        "colab": {
          "base_uri": "https://localhost:8080/"
        },
        "id": "TTeb-FDtA8s8",
        "outputId": "2fc2f6ae-3244-4278-ffd1-045aad2e77d2"
      },
      "execution_count": 11,
      "outputs": [
        {
          "output_type": "stream",
          "name": "stdout",
          "text": [
            "genarate_sdxl_images.py  generate_sdxl_passport_variants.py  train.py\n"
          ]
        }
      ]
    },
    {
      "cell_type": "code",
      "source": [
        "!python scripts/generate_sdxl_passport_variants.py \\\n",
        "  --out /content/drive/MyDrive/ai-workspace/outputs/sdxl_passport_25yo \\\n",
        "  --male-count 100 --female-count 100 \\\n",
        "  --seed-start-male 1000 --seed-start-female 2000 \\\n",
        "  --steps 30 --cfg 5.0 --width 1024 --height 1024"
      ],
      "metadata": {
        "colab": {
          "base_uri": "https://localhost:8080/"
        },
        "id": "XM0rLHUfAszV",
        "outputId": "bb739d61-0615-4e6c-b12b-6daa2b8fd525"
      },
      "execution_count": 12,
      "outputs": [
        {
          "output_type": "stream",
          "name": "stdout",
          "text": [
            "2025-09-28 14:31:36.376307: E external/local_xla/xla/stream_executor/cuda/cuda_fft.cc:467] Unable to register cuFFT factory: Attempting to register factory for plugin cuFFT when one has already been registered\n",
            "WARNING: All log messages before absl::InitializeLog() is called are written to STDERR\n",
            "E0000 00:00:1759069896.398204   47219 cuda_dnn.cc:8579] Unable to register cuDNN factory: Attempting to register factory for plugin cuDNN when one has already been registered\n",
            "E0000 00:00:1759069896.404611   47219 cuda_blas.cc:1407] Unable to register cuBLAS factory: Attempting to register factory for plugin cuBLAS when one has already been registered\n",
            "W0000 00:00:1759069896.421795   47219 computation_placer.cc:177] computation placer already registered. Please check linkage and avoid linking the same target more than once.\n",
            "W0000 00:00:1759069896.421847   47219 computation_placer.cc:177] computation placer already registered. Please check linkage and avoid linking the same target more than once.\n",
            "W0000 00:00:1759069896.421852   47219 computation_placer.cc:177] computation placer already registered. Please check linkage and avoid linking the same target more than once.\n",
            "W0000 00:00:1759069896.421856   47219 computation_placer.cc:177] computation placer already registered. Please check linkage and avoid linking the same target more than once.\n",
            "Loading pipeline components...:  71% 5/7 [01:06<00:18,  9.01s/it]`torch_dtype` is deprecated! Use `dtype` instead!\n",
            "Loading pipeline components...: 100% 7/7 [01:26<00:00, 12.32s/it]\n",
            "100% 30/30 [00:22<00:00,  1.34it/s]\n",
            "100% 30/30 [00:21<00:00,  1.38it/s]\n",
            "100% 30/30 [00:22<00:00,  1.36it/s]\n",
            "100% 30/30 [00:22<00:00,  1.34it/s]\n",
            "100% 30/30 [00:23<00:00,  1.29it/s]\n",
            "100% 30/30 [00:24<00:00,  1.22it/s]\n",
            "100% 30/30 [00:24<00:00,  1.22it/s]\n",
            "100% 30/30 [00:23<00:00,  1.25it/s]\n",
            "100% 30/30 [00:24<00:00,  1.24it/s]\n",
            "100% 30/30 [00:24<00:00,  1.23it/s]\n",
            "100% 30/30 [00:24<00:00,  1.24it/s]\n",
            "100% 30/30 [00:24<00:00,  1.24it/s]\n",
            "100% 30/30 [00:24<00:00,  1.23it/s]\n",
            "100% 30/30 [00:24<00:00,  1.24it/s]\n",
            "100% 30/30 [00:24<00:00,  1.24it/s]\n",
            "100% 30/30 [00:24<00:00,  1.24it/s]\n",
            "100% 30/30 [00:24<00:00,  1.24it/s]\n",
            "100% 30/30 [00:24<00:00,  1.24it/s]\n",
            "100% 30/30 [00:24<00:00,  1.23it/s]\n",
            "100% 30/30 [00:24<00:00,  1.23it/s]\n",
            "100% 30/30 [00:24<00:00,  1.24it/s]\n",
            "100% 30/30 [00:24<00:00,  1.24it/s]\n",
            "100% 30/30 [00:24<00:00,  1.24it/s]\n",
            "100% 30/30 [00:24<00:00,  1.24it/s]\n",
            "100% 30/30 [00:24<00:00,  1.23it/s]\n",
            "100% 30/30 [00:24<00:00,  1.23it/s]\n",
            "100% 30/30 [00:24<00:00,  1.24it/s]\n",
            "100% 30/30 [00:24<00:00,  1.24it/s]\n",
            "100% 30/30 [00:24<00:00,  1.24it/s]\n",
            "100% 30/30 [00:24<00:00,  1.24it/s]\n",
            "100% 30/30 [00:24<00:00,  1.23it/s]\n",
            "100% 30/30 [00:24<00:00,  1.24it/s]\n",
            "100% 30/30 [00:24<00:00,  1.24it/s]\n",
            "100% 30/30 [00:24<00:00,  1.24it/s]\n",
            "100% 30/30 [00:24<00:00,  1.24it/s]\n",
            "100% 30/30 [00:24<00:00,  1.24it/s]\n",
            "100% 30/30 [00:24<00:00,  1.24it/s]\n",
            "100% 30/30 [00:24<00:00,  1.24it/s]\n",
            "100% 30/30 [00:24<00:00,  1.24it/s]\n",
            "100% 30/30 [00:24<00:00,  1.23it/s]\n",
            "100% 30/30 [00:24<00:00,  1.23it/s]\n",
            "100% 30/30 [00:24<00:00,  1.23it/s]\n",
            "100% 30/30 [00:24<00:00,  1.23it/s]\n",
            "100% 30/30 [00:24<00:00,  1.23it/s]\n",
            "100% 30/30 [00:24<00:00,  1.24it/s]\n",
            "100% 30/30 [00:24<00:00,  1.23it/s]\n",
            "100% 30/30 [00:24<00:00,  1.24it/s]\n",
            "100% 30/30 [00:24<00:00,  1.24it/s]\n",
            "100% 30/30 [00:24<00:00,  1.24it/s]\n",
            "100% 30/30 [00:24<00:00,  1.23it/s]\n",
            "100% 30/30 [00:24<00:00,  1.23it/s]\n",
            "100% 30/30 [00:24<00:00,  1.23it/s]\n",
            "100% 30/30 [00:24<00:00,  1.24it/s]\n",
            "100% 30/30 [00:24<00:00,  1.23it/s]\n",
            "100% 30/30 [00:24<00:00,  1.24it/s]\n",
            "100% 30/30 [00:24<00:00,  1.24it/s]\n",
            "100% 30/30 [00:24<00:00,  1.24it/s]\n",
            "100% 30/30 [00:24<00:00,  1.24it/s]\n",
            "100% 30/30 [00:24<00:00,  1.24it/s]\n",
            "100% 30/30 [00:24<00:00,  1.23it/s]\n",
            "100% 30/30 [00:24<00:00,  1.23it/s]\n",
            "100% 30/30 [00:24<00:00,  1.24it/s]\n",
            "100% 30/30 [00:24<00:00,  1.24it/s]\n",
            "100% 30/30 [00:24<00:00,  1.24it/s]\n",
            "100% 30/30 [00:24<00:00,  1.24it/s]\n",
            "100% 30/30 [00:24<00:00,  1.24it/s]\n",
            "100% 30/30 [00:24<00:00,  1.23it/s]\n",
            "100% 30/30 [00:24<00:00,  1.24it/s]\n",
            "100% 30/30 [00:24<00:00,  1.23it/s]\n",
            "100% 30/30 [00:24<00:00,  1.24it/s]\n",
            "100% 30/30 [00:24<00:00,  1.24it/s]\n",
            "100% 30/30 [00:24<00:00,  1.24it/s]\n",
            "100% 30/30 [00:24<00:00,  1.24it/s]\n",
            "100% 30/30 [00:24<00:00,  1.24it/s]\n",
            "100% 30/30 [00:24<00:00,  1.23it/s]\n",
            "100% 30/30 [00:24<00:00,  1.24it/s]\n",
            "100% 30/30 [00:24<00:00,  1.24it/s]\n",
            "100% 30/30 [00:24<00:00,  1.24it/s]\n",
            "100% 30/30 [00:24<00:00,  1.24it/s]\n",
            "100% 30/30 [00:24<00:00,  1.23it/s]\n",
            "100% 30/30 [00:24<00:00,  1.24it/s]\n",
            "100% 30/30 [00:24<00:00,  1.23it/s]\n",
            "100% 30/30 [00:24<00:00,  1.23it/s]\n",
            "100% 30/30 [00:24<00:00,  1.24it/s]\n",
            "100% 30/30 [00:24<00:00,  1.24it/s]\n",
            "100% 30/30 [00:24<00:00,  1.24it/s]\n",
            "100% 30/30 [00:24<00:00,  1.24it/s]\n",
            "100% 30/30 [00:24<00:00,  1.23it/s]\n",
            "100% 30/30 [00:24<00:00,  1.23it/s]\n",
            "100% 30/30 [00:24<00:00,  1.23it/s]\n",
            "100% 30/30 [00:24<00:00,  1.23it/s]\n",
            "100% 30/30 [00:24<00:00,  1.23it/s]\n",
            "100% 30/30 [00:24<00:00,  1.24it/s]\n",
            "100% 30/30 [00:24<00:00,  1.24it/s]\n",
            "100% 30/30 [00:24<00:00,  1.24it/s]\n",
            "100% 30/30 [00:24<00:00,  1.23it/s]\n",
            "100% 30/30 [00:24<00:00,  1.24it/s]\n",
            "100% 30/30 [00:24<00:00,  1.24it/s]\n",
            "100% 30/30 [00:24<00:00,  1.23it/s]\n",
            "100% 30/30 [00:24<00:00,  1.24it/s]\n",
            "100% 30/30 [00:24<00:00,  1.24it/s]\n",
            "100% 30/30 [00:24<00:00,  1.24it/s]\n",
            "100% 30/30 [00:24<00:00,  1.23it/s]\n",
            "100% 30/30 [00:24<00:00,  1.23it/s]\n",
            "100% 30/30 [00:24<00:00,  1.24it/s]\n",
            "100% 30/30 [00:24<00:00,  1.24it/s]\n",
            "100% 30/30 [00:24<00:00,  1.24it/s]\n",
            "100% 30/30 [00:24<00:00,  1.24it/s]\n",
            "100% 30/30 [00:24<00:00,  1.24it/s]\n",
            "100% 30/30 [00:24<00:00,  1.23it/s]\n",
            "100% 30/30 [00:24<00:00,  1.24it/s]\n",
            "100% 30/30 [00:24<00:00,  1.24it/s]\n",
            "100% 30/30 [00:24<00:00,  1.24it/s]\n",
            "100% 30/30 [00:24<00:00,  1.24it/s]\n",
            "100% 30/30 [00:24<00:00,  1.24it/s]\n",
            "100% 30/30 [00:24<00:00,  1.23it/s]\n",
            "100% 30/30 [00:24<00:00,  1.23it/s]\n",
            "100% 30/30 [00:24<00:00,  1.23it/s]\n",
            "100% 30/30 [00:24<00:00,  1.24it/s]\n",
            "100% 30/30 [00:24<00:00,  1.24it/s]\n",
            "100% 30/30 [00:24<00:00,  1.24it/s]\n",
            "100% 30/30 [00:24<00:00,  1.24it/s]\n",
            "100% 30/30 [00:24<00:00,  1.24it/s]\n",
            "100% 30/30 [00:24<00:00,  1.23it/s]\n",
            "100% 30/30 [00:24<00:00,  1.23it/s]\n",
            "100% 30/30 [00:24<00:00,  1.24it/s]\n",
            "100% 30/30 [00:24<00:00,  1.24it/s]\n",
            "100% 30/30 [00:24<00:00,  1.24it/s]\n",
            "100% 30/30 [00:24<00:00,  1.24it/s]\n",
            "100% 30/30 [00:24<00:00,  1.24it/s]\n",
            "100% 30/30 [00:24<00:00,  1.24it/s]\n",
            "100% 30/30 [00:24<00:00,  1.23it/s]\n",
            "100% 30/30 [00:24<00:00,  1.23it/s]\n",
            "100% 30/30 [00:24<00:00,  1.24it/s]\n",
            "100% 30/30 [00:24<00:00,  1.24it/s]\n",
            "100% 30/30 [00:24<00:00,  1.24it/s]\n",
            "100% 30/30 [00:24<00:00,  1.23it/s]\n",
            "100% 30/30 [00:24<00:00,  1.23it/s]\n",
            "100% 30/30 [00:24<00:00,  1.24it/s]\n",
            "100% 30/30 [00:24<00:00,  1.23it/s]\n",
            "100% 30/30 [00:24<00:00,  1.23it/s]\n",
            "100% 30/30 [00:24<00:00,  1.23it/s]\n",
            "100% 30/30 [00:24<00:00,  1.23it/s]\n",
            "100% 30/30 [00:24<00:00,  1.23it/s]\n",
            "100% 30/30 [00:24<00:00,  1.24it/s]\n",
            "100% 30/30 [00:24<00:00,  1.23it/s]\n",
            "100% 30/30 [00:24<00:00,  1.23it/s]\n",
            "100% 30/30 [00:24<00:00,  1.23it/s]\n",
            "100% 30/30 [00:24<00:00,  1.24it/s]\n",
            "100% 30/30 [00:24<00:00,  1.24it/s]\n",
            "100% 30/30 [00:24<00:00,  1.23it/s]\n",
            "100% 30/30 [00:24<00:00,  1.24it/s]\n",
            "100% 30/30 [00:24<00:00,  1.24it/s]\n",
            "100% 30/30 [00:24<00:00,  1.24it/s]\n",
            "100% 30/30 [00:24<00:00,  1.23it/s]\n",
            "100% 30/30 [00:24<00:00,  1.23it/s]\n",
            "100% 30/30 [00:24<00:00,  1.24it/s]\n",
            "100% 30/30 [00:24<00:00,  1.24it/s]\n",
            "100% 30/30 [00:24<00:00,  1.23it/s]\n",
            "100% 30/30 [00:24<00:00,  1.24it/s]\n",
            "100% 30/30 [00:24<00:00,  1.23it/s]\n",
            "100% 30/30 [00:24<00:00,  1.23it/s]\n",
            "100% 30/30 [00:24<00:00,  1.23it/s]\n",
            "100% 30/30 [00:24<00:00,  1.23it/s]\n",
            "100% 30/30 [00:24<00:00,  1.23it/s]\n",
            "100% 30/30 [00:24<00:00,  1.23it/s]\n",
            "100% 30/30 [00:24<00:00,  1.23it/s]\n",
            "100% 30/30 [00:24<00:00,  1.23it/s]\n",
            "100% 30/30 [00:24<00:00,  1.24it/s]\n",
            "100% 30/30 [00:24<00:00,  1.24it/s]\n",
            "100% 30/30 [00:24<00:00,  1.24it/s]\n",
            "100% 30/30 [00:24<00:00,  1.23it/s]\n",
            "100% 30/30 [00:24<00:00,  1.23it/s]\n",
            "100% 30/30 [00:24<00:00,  1.24it/s]\n",
            "100% 30/30 [00:24<00:00,  1.24it/s]\n",
            "100% 30/30 [00:24<00:00,  1.24it/s]\n",
            "100% 30/30 [00:24<00:00,  1.24it/s]\n",
            "100% 30/30 [00:24<00:00,  1.23it/s]\n",
            "100% 30/30 [00:24<00:00,  1.23it/s]\n",
            "100% 30/30 [00:24<00:00,  1.23it/s]\n",
            "100% 30/30 [00:24<00:00,  1.24it/s]\n",
            "100% 30/30 [00:24<00:00,  1.23it/s]\n",
            "100% 30/30 [00:24<00:00,  1.23it/s]\n",
            "100% 30/30 [00:24<00:00,  1.23it/s]\n",
            "100% 30/30 [00:24<00:00,  1.23it/s]\n",
            "100% 30/30 [00:24<00:00,  1.24it/s]\n",
            "100% 30/30 [00:24<00:00,  1.24it/s]\n",
            "100% 30/30 [00:24<00:00,  1.24it/s]\n",
            "100% 30/30 [00:24<00:00,  1.24it/s]\n",
            "100% 30/30 [00:24<00:00,  1.23it/s]\n",
            "100% 30/30 [00:24<00:00,  1.23it/s]\n",
            "100% 30/30 [00:24<00:00,  1.23it/s]\n",
            "100% 30/30 [00:24<00:00,  1.23it/s]\n",
            "100% 30/30 [00:24<00:00,  1.24it/s]\n",
            "100% 30/30 [00:24<00:00,  1.23it/s]\n",
            "100% 30/30 [00:24<00:00,  1.23it/s]\n",
            "100% 30/30 [00:24<00:00,  1.24it/s]\n",
            "100% 30/30 [00:24<00:00,  1.24it/s]\n",
            "100% 30/30 [00:24<00:00,  1.24it/s]\n",
            "100% 30/30 [00:24<00:00,  1.23it/s]\n",
            "✅ Done. Saved images to: /content/drive/MyDrive/ai-workspace/outputs/sdxl_passport_25yo\n",
            "📝 Manifest: /content/drive/MyDrive/ai-workspace/outputs/sdxl_passport_25yo/manifest_passport.csv\n"
          ]
        }
      ]
    }
  ]
}