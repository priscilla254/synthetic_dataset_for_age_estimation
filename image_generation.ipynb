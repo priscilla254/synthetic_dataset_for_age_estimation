{
  "nbformat": 4,
  "nbformat_minor": 0,
  "metadata": {
    "colab": {
      "provenance": [],
      "gpuType": "A100",
      "authorship_tag": "ABX9TyOfnCF/9MoeTIJHOPgQrJgI",
      "include_colab_link": true
    },
    "kernelspec": {
      "name": "python3",
      "display_name": "Python 3"
    },
    "language_info": {
      "name": "python"
    },
    "accelerator": "GPU"
  },
  "cells": [
    {
      "cell_type": "markdown",
      "metadata": {
        "id": "view-in-github",
        "colab_type": "text"
      },
      "source": [
        "<a href=\"https://colab.research.google.com/github/priscilla254/synthetic_dataset_for_age_estimation/blob/main/image_generation.ipynb\" target=\"_parent\"><img src=\"https://colab.research.google.com/assets/colab-badge.svg\" alt=\"Open In Colab\"/></a>"
      ]
    },
    {
      "cell_type": "code",
      "execution_count": 1,
      "metadata": {
        "colab": {
          "base_uri": "https://localhost:8080/"
        },
        "id": "UyBYvh3542cr",
        "outputId": "68c4a2a1-4e50-4096-dbe7-00cd8d090f6e"
      },
      "outputs": [
        {
          "output_type": "stream",
          "name": "stdout",
          "text": [
            "Mounted at /content/drive\n"
          ]
        }
      ],
      "source": [
        "from google.colab import drive\n",
        "drive.mount('/content/drive', force_remount=True)\n",
        "\n",
        "\n"
      ]
    },
    {
      "cell_type": "code",
      "source": [
        "# Upgrade numpy to 2.x and align OpenCV\n",
        "%pip install -U \"numpy>=2.1,<2.3\"\n",
        "%pip uninstall -y opencv-python opencv-contrib-python  # avoid multiple OpenCVs\n",
        "%pip install -U opencv-python-headless==4.12.0.88\n",
        "\n",
        "# If you don't actually use spaCy/thinc, you can remove them to avoid future nags:\n",
        "# %pip uninstall -y spacy thinc"
      ],
      "metadata": {
        "colab": {
          "base_uri": "https://localhost:8080/"
        },
        "id": "N38LMYA15bJS",
        "outputId": "699fc271-5ea0-45a8-fc70-3f699117f799"
      },
      "execution_count": 1,
      "outputs": [
        {
          "output_type": "stream",
          "name": "stdout",
          "text": [
            "Requirement already satisfied: numpy<2.3,>=2.1 in /usr/local/lib/python3.12/dist-packages (2.2.6)\n",
            "\u001b[33mWARNING: Skipping opencv-python as it is not installed.\u001b[0m\u001b[33m\n",
            "\u001b[0m\u001b[33mWARNING: Skipping opencv-contrib-python as it is not installed.\u001b[0m\u001b[33m\n",
            "\u001b[0mRequirement already satisfied: opencv-python-headless==4.12.0.88 in /usr/local/lib/python3.12/dist-packages (4.12.0.88)\n",
            "Requirement already satisfied: numpy<2.3.0,>=2 in /usr/local/lib/python3.12/dist-packages (from opencv-python-headless==4.12.0.88) (2.2.6)\n"
          ]
        }
      ]
    },
    {
      "cell_type": "code",
      "source": [
        "import numpy, cv2\n",
        "print(numpy.__version__)  # should be 2.x\n",
        "\n"
      ],
      "metadata": {
        "colab": {
          "base_uri": "https://localhost:8080/"
        },
        "id": "tjO7oZFy6JXg",
        "outputId": "839e4350-1454-4c9c-a8c0-79ed6c3461ee"
      },
      "execution_count": 2,
      "outputs": [
        {
          "output_type": "stream",
          "name": "stdout",
          "text": [
            "2.2.6\n"
          ]
        }
      ]
    },
    {
      "cell_type": "code",
      "source": [
        "!pwd"
      ],
      "metadata": {
        "colab": {
          "base_uri": "https://localhost:8080/"
        },
        "id": "Wbbmfv4o64p9",
        "outputId": "bd439320-4371-4985-ca95-9065db0ed6fd"
      },
      "execution_count": 3,
      "outputs": [
        {
          "output_type": "stream",
          "name": "stdout",
          "text": [
            "/content\n"
          ]
        }
      ]
    },
    {
      "cell_type": "code",
      "source": [
        "%pip install -U diffusers safetensors huggingface-hub\n"
      ],
      "metadata": {
        "colab": {
          "base_uri": "https://localhost:8080/"
        },
        "id": "r-6bmwKkdgAB",
        "outputId": "edef8598-4afe-425c-fe3b-733ccd4f2a1f"
      },
      "execution_count": 4,
      "outputs": [
        {
          "output_type": "stream",
          "name": "stdout",
          "text": [
            "Requirement already satisfied: diffusers in /usr/local/lib/python3.12/dist-packages (0.35.1)\n",
            "Requirement already satisfied: safetensors in /usr/local/lib/python3.12/dist-packages (0.6.2)\n",
            "Requirement already satisfied: huggingface-hub in /usr/local/lib/python3.12/dist-packages (0.35.3)\n",
            "Requirement already satisfied: importlib_metadata in /usr/local/lib/python3.12/dist-packages (from diffusers) (8.7.0)\n",
            "Requirement already satisfied: filelock in /usr/local/lib/python3.12/dist-packages (from diffusers) (3.19.1)\n",
            "Requirement already satisfied: numpy in /usr/local/lib/python3.12/dist-packages (from diffusers) (2.2.6)\n",
            "Requirement already satisfied: regex!=2019.12.17 in /usr/local/lib/python3.12/dist-packages (from diffusers) (2024.11.6)\n",
            "Requirement already satisfied: requests in /usr/local/lib/python3.12/dist-packages (from diffusers) (2.32.4)\n",
            "Requirement already satisfied: Pillow in /usr/local/lib/python3.12/dist-packages (from diffusers) (11.3.0)\n",
            "Requirement already satisfied: fsspec>=2023.5.0 in /usr/local/lib/python3.12/dist-packages (from huggingface-hub) (2025.3.0)\n",
            "Requirement already satisfied: packaging>=20.9 in /usr/local/lib/python3.12/dist-packages (from huggingface-hub) (25.0)\n",
            "Requirement already satisfied: pyyaml>=5.1 in /usr/local/lib/python3.12/dist-packages (from huggingface-hub) (6.0.3)\n",
            "Requirement already satisfied: tqdm>=4.42.1 in /usr/local/lib/python3.12/dist-packages (from huggingface-hub) (4.67.1)\n",
            "Requirement already satisfied: typing-extensions>=3.7.4.3 in /usr/local/lib/python3.12/dist-packages (from huggingface-hub) (4.15.0)\n",
            "Requirement already satisfied: hf-xet<2.0.0,>=1.1.3 in /usr/local/lib/python3.12/dist-packages (from huggingface-hub) (1.1.10)\n",
            "Requirement already satisfied: zipp>=3.20 in /usr/local/lib/python3.12/dist-packages (from importlib_metadata->diffusers) (3.23.0)\n",
            "Requirement already satisfied: charset_normalizer<4,>=2 in /usr/local/lib/python3.12/dist-packages (from requests->diffusers) (3.4.3)\n",
            "Requirement already satisfied: idna<4,>=2.5 in /usr/local/lib/python3.12/dist-packages (from requests->diffusers) (3.10)\n",
            "Requirement already satisfied: urllib3<3,>=1.21.1 in /usr/local/lib/python3.12/dist-packages (from requests->diffusers) (2.5.0)\n",
            "Requirement already satisfied: certifi>=2017.4.17 in /usr/local/lib/python3.12/dist-packages (from requests->diffusers) (2025.8.3)\n"
          ]
        }
      ]
    },
    {
      "cell_type": "code",
      "source": [
        "!git clone https://github.com/priscilla254/synthetic_dataset_for_age_estimation.git"
      ],
      "metadata": {
        "colab": {
          "base_uri": "https://localhost:8080/"
        },
        "id": "awXV40Yl70tI",
        "outputId": "a2ed1ecc-f735-4fd8-ba78-f2215e189e4e"
      },
      "execution_count": 4,
      "outputs": [
        {
          "output_type": "stream",
          "name": "stdout",
          "text": [
            "Cloning into 'synthetic_dataset_for_age_estimation'...\n",
            "remote: Enumerating objects: 104, done.\u001b[K\n",
            "remote: Counting objects: 100% (104/104), done.\u001b[K\n",
            "remote: Compressing objects: 100% (75/75), done.\u001b[K\n",
            "remote: Total 104 (delta 45), reused 68 (delta 21), pack-reused 0 (from 0)\u001b[K\n",
            "Receiving objects: 100% (104/104), 4.52 MiB | 19.20 MiB/s, done.\n",
            "Resolving deltas: 100% (45/45), done.\n"
          ]
        }
      ]
    },
    {
      "cell_type": "code",
      "source": [
        "!ls"
      ],
      "metadata": {
        "colab": {
          "base_uri": "https://localhost:8080/"
        },
        "id": "lw4EtsYmOFTc",
        "outputId": "2bb42e27-3f96-442f-fb77-f8c6a4687ab3"
      },
      "execution_count": 5,
      "outputs": [
        {
          "output_type": "stream",
          "name": "stdout",
          "text": [
            "sample_data  synthetic_dataset_for_age_estimation\n"
          ]
        }
      ]
    },
    {
      "cell_type": "code",
      "source": [
        "!cd synthetic_dataset_for_age_estimation/"
      ],
      "metadata": {
        "id": "dGjj0EnXfjfg"
      },
      "execution_count": 6,
      "outputs": []
    },
    {
      "cell_type": "code",
      "source": [
        "cd synthetic_dataset_for_age_estimation/"
      ],
      "metadata": {
        "colab": {
          "base_uri": "https://localhost:8080/"
        },
        "id": "TTeb-FDtA8s8",
        "outputId": "dfd957db-2ec5-42ef-880d-d86e8fa18125"
      },
      "execution_count": 7,
      "outputs": [
        {
          "output_type": "stream",
          "name": "stdout",
          "text": [
            "/content/synthetic_dataset_for_age_estimation\n"
          ]
        }
      ]
    },
    {
      "cell_type": "code",
      "source": [
        "!git pull"
      ],
      "metadata": {
        "colab": {
          "base_uri": "https://localhost:8080/"
        },
        "id": "32pBid6v-OiT",
        "outputId": "06060b9b-c2cd-474a-d8b1-2fd2cab0e20c"
      },
      "execution_count": 15,
      "outputs": [
        {
          "output_type": "stream",
          "name": "stdout",
          "text": [
            "remote: Enumerating objects: 7, done.\u001b[K\n",
            "remote: Counting objects:  14% (1/7)\u001b[K\rremote: Counting objects:  28% (2/7)\u001b[K\rremote: Counting objects:  42% (3/7)\u001b[K\rremote: Counting objects:  57% (4/7)\u001b[K\rremote: Counting objects:  71% (5/7)\u001b[K\rremote: Counting objects:  85% (6/7)\u001b[K\rremote: Counting objects: 100% (7/7)\u001b[K\rremote: Counting objects: 100% (7/7), done.\u001b[K\n",
            "remote: Compressing objects: 100% (1/1)\u001b[K\rremote: Compressing objects: 100% (1/1), done.\u001b[K\n",
            "remote: Total 4 (delta 3), reused 4 (delta 3), pack-reused 0 (from 0)\u001b[K\n",
            "Unpacking objects:  25% (1/4)\rUnpacking objects:  50% (2/4)\rUnpacking objects:  75% (3/4)\rUnpacking objects: 100% (4/4)\rUnpacking objects: 100% (4/4), 371 bytes | 371.00 KiB/s, done.\n",
            "From https://github.com/priscilla254/synthetic_dataset_for_age_estimation\n",
            "   1575c94..601c692  main       -> origin/main\n",
            "Updating 1575c94..601c692\n",
            "Fast-forward\n",
            " scripts/generate_sdxl_images.py | 8 \u001b[32m+++\u001b[m\u001b[31m-----\u001b[m\n",
            " 1 file changed, 3 insertions(+), 5 deletions(-)\n"
          ]
        }
      ]
    },
    {
      "cell_type": "code",
      "source": [
        "!python scripts/generate_sdxl_images.py \\\n",
        "  --wildcards ./scripts/wildcards \\\n",
        "  --out \"/content/drive/MyDrive/ai-workspace/run_wildcards\" \\\n",
        "  --num 10 \\\n",
        "  --device cuda --dtype fp16 \\\n",
        "  --sched dpm \\\n",
        "  --guidance-rescale 0.7 \\\n",
        "  --jitter-steps --min-steps 28 --max-steps 36 \\\n",
        "  --jitter-cfg   --min-cfg 5.0 --max-cfg 6.0 \\\n",
        "  --ethnicity \"Black or African descent\" \\\n",
        "  --use-refiner --refiner-steps 20\n"
      ],
      "metadata": {
        "colab": {
          "base_uri": "https://localhost:8080/"
        },
        "id": "XM0rLHUfAszV",
        "outputId": "5a5f4323-7c79-4dc3-9f79-481608865950"
      },
      "execution_count": 16,
      "outputs": [
        {
          "output_type": "stream",
          "name": "stdout",
          "text": [
            "2025-10-06 20:09:33.122834: E external/local_xla/xla/stream_executor/cuda/cuda_fft.cc:467] Unable to register cuFFT factory: Attempting to register factory for plugin cuFFT when one has already been registered\n",
            "WARNING: All log messages before absl::InitializeLog() is called are written to STDERR\n",
            "E0000 00:00:1759781373.144413    8530 cuda_dnn.cc:8579] Unable to register cuDNN factory: Attempting to register factory for plugin cuDNN when one has already been registered\n",
            "E0000 00:00:1759781373.151067    8530 cuda_blas.cc:1407] Unable to register cuBLAS factory: Attempting to register factory for plugin cuBLAS when one has already been registered\n",
            "W0000 00:00:1759781373.167633    8530 computation_placer.cc:177] computation placer already registered. Please check linkage and avoid linking the same target more than once.\n",
            "W0000 00:00:1759781373.167662    8530 computation_placer.cc:177] computation placer already registered. Please check linkage and avoid linking the same target more than once.\n",
            "W0000 00:00:1759781373.167666    8530 computation_placer.cc:177] computation placer already registered. Please check linkage and avoid linking the same target more than once.\n",
            "W0000 00:00:1759781373.167668    8530 computation_placer.cc:177] computation placer already registered. Please check linkage and avoid linking the same target more than once.\n",
            "Keyword arguments {'dtype': torch.float16} are not expected by StableDiffusionXLPipeline and will be ignored.\n",
            "Loading pipeline components...: 100% 7/7 [00:02<00:00,  2.59it/s]\n",
            "UNet dtype: torch.float32\n",
            "Loading pipeline components...:   0% 0/5 [00:00<?, ?it/s]`torch_dtype` is deprecated! Use `dtype` instead!\n",
            "Loading pipeline components...: 100% 5/5 [00:02<00:00,  2.42it/s]\n",
            "100% 23/23 [00:20<00:00,  1.12it/s]\n",
            "100% 4/4 [00:01<00:00,  3.89it/s]\n",
            "100% 27/27 [00:23<00:00,  1.13it/s]\n",
            "100% 4/4 [00:00<00:00,  4.33it/s]\n",
            "100% 25/25 [00:22<00:00,  1.13it/s]\n",
            "100% 4/4 [00:00<00:00,  4.42it/s]\n",
            "100% 24/24 [00:21<00:00,  1.13it/s]\n",
            "100% 4/4 [00:00<00:00,  4.42it/s]\n",
            "100% 28/28 [00:24<00:00,  1.13it/s]\n",
            "100% 4/4 [00:00<00:00,  4.42it/s]\n",
            "100% 27/27 [00:23<00:00,  1.13it/s]\n",
            "100% 4/4 [00:00<00:00,  4.43it/s]\n",
            "100% 28/28 [00:24<00:00,  1.13it/s]\n",
            "100% 4/4 [00:00<00:00,  4.41it/s]\n",
            "100% 23/23 [00:20<00:00,  1.13it/s]\n",
            "100% 4/4 [00:00<00:00,  4.42it/s]\n",
            "100% 29/29 [00:25<00:00,  1.13it/s]\n",
            "100% 4/4 [00:00<00:00,  4.35it/s]\n",
            "100% 25/25 [00:22<00:00,  1.13it/s]\n",
            "100% 4/4 [00:00<00:00,  4.37it/s]\n",
            "Done. Images saved to: /content/drive/MyDrive/ai-workspace/run_wildcards\n",
            "Manifest: /content/drive/MyDrive/ai-workspace/run_wildcards/manifest.csv\n"
          ]
        }
      ]
    },
    {
      "cell_type": "code",
      "source": [],
      "metadata": {
        "id": "xcxIbgOCI42J"
      },
      "execution_count": null,
      "outputs": []
    }
  ]
}