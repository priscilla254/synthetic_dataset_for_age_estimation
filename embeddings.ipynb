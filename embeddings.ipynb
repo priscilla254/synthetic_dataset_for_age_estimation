{
  "nbformat": 4,
  "nbformat_minor": 0,
  "metadata": {
    "colab": {
      "provenance": [],
      "authorship_tag": "ABX9TyOvRO1jKddfZR/0tiuXy4rc",
      "include_colab_link": true
    },
    "kernelspec": {
      "name": "python3",
      "display_name": "Python 3"
    },
    "language_info": {
      "name": "python"
    }
  },
  "cells": [
    {
      "cell_type": "markdown",
      "metadata": {
        "id": "view-in-github",
        "colab_type": "text"
      },
      "source": [
        "<a href=\"https://colab.research.google.com/github/priscilla254/synthetic_dataset_for_age_estimation/blob/main/embeddings.ipynb\" target=\"_parent\"><img src=\"https://colab.research.google.com/assets/colab-badge.svg\" alt=\"Open In Colab\"/></a>"
      ]
    },
    {
      "cell_type": "code",
      "execution_count": 1,
      "metadata": {
        "colab": {
          "base_uri": "https://localhost:8080/"
        },
        "id": "-I3UOGkXKAGG",
        "outputId": "aa78a83b-28b9-4e8b-eb2a-da08fb10224e"
      },
      "outputs": [
        {
          "output_type": "stream",
          "name": "stdout",
          "text": [
            "Mounted at /content/drive\n",
            "\u001b[2K     \u001b[90m━━━━━━━━━━━━━━━━━━━━━━━━━━━━━━━━━━━━━━━\u001b[0m \u001b[32m439.5/439.5 kB\u001b[0m \u001b[31m8.5 MB/s\u001b[0m eta \u001b[36m0:00:00\u001b[0m\n",
            "\u001b[?25h  Installing build dependencies ... \u001b[?25l\u001b[?25hdone\n",
            "  Getting requirements to build wheel ... \u001b[?25l\u001b[?25hdone\n",
            "  Preparing metadata (pyproject.toml) ... \u001b[?25l\u001b[?25hdone\n",
            "\u001b[2K   \u001b[90m━━━━━━━━━━━━━━━━━━━━━━━━━━━━━━━━━━━━━━━━\u001b[0m \u001b[32m18.2/18.2 MB\u001b[0m \u001b[31m107.9 MB/s\u001b[0m eta \u001b[36m0:00:00\u001b[0m\n",
            "\u001b[?25h  Building wheel for insightface (pyproject.toml) ... \u001b[?25l\u001b[?25hdone\n"
          ]
        }
      ],
      "source": [
        "from google.colab import drive\n",
        "drive.mount('/content/drive', force_remount=True)\n",
        "\n",
        "%pip -q install insightface opencv-python-headless numpy pandas tqdm"
      ]
    },
    {
      "cell_type": "code",
      "source": [
        "!git clone https://github.com/priscilla254/synthetic_dataset_for_age_estimation.git"
      ],
      "metadata": {
        "colab": {
          "base_uri": "https://localhost:8080/"
        },
        "id": "TUWgIINAKYG4",
        "outputId": "6b42985e-09d6-4503-c8d4-5562e85219d0"
      },
      "execution_count": 2,
      "outputs": [
        {
          "output_type": "stream",
          "name": "stdout",
          "text": [
            "Cloning into 'synthetic_dataset_for_age_estimation'...\n",
            "remote: Enumerating objects: 32, done.\u001b[K\n",
            "remote: Counting objects: 100% (32/32), done.\u001b[K\n",
            "remote: Compressing objects: 100% (26/26), done.\u001b[K\n",
            "remote: Total 32 (delta 10), reused 20 (delta 3), pack-reused 0 (from 0)\u001b[K\n",
            "Receiving objects: 100% (32/32), 19.21 KiB | 9.61 MiB/s, done.\n",
            "Resolving deltas: 100% (10/10), done.\n"
          ]
        }
      ]
    },
    {
      "cell_type": "code",
      "source": [
        "!pwd"
      ],
      "metadata": {
        "colab": {
          "base_uri": "https://localhost:8080/"
        },
        "id": "_HwmZX9DKjBr",
        "outputId": "6e683288-e23d-4c8f-a8b0-93a42a2be1a9"
      },
      "execution_count": 3,
      "outputs": [
        {
          "output_type": "stream",
          "name": "stdout",
          "text": [
            "/content\n"
          ]
        }
      ]
    },
    {
      "cell_type": "code",
      "source": [
        "cd synthetic_dataset_for_age_estimation/"
      ],
      "metadata": {
        "colab": {
          "base_uri": "https://localhost:8080/"
        },
        "id": "h97Epf-FKjrJ",
        "outputId": "a38f3fb0-6f49-4bff-d84f-23a0917d848d"
      },
      "execution_count": 4,
      "outputs": [
        {
          "output_type": "stream",
          "name": "stdout",
          "text": [
            "/content/synthetic_dataset_for_age_estimation\n"
          ]
        }
      ]
    },
    {
      "cell_type": "code",
      "source": [
        "!git pull origin main"
      ],
      "metadata": {
        "colab": {
          "base_uri": "https://localhost:8080/"
        },
        "id": "Nhv1Ma6cLoHC",
        "outputId": "3951a8ee-3da3-4430-cc5e-7bec39607199"
      },
      "execution_count": 8,
      "outputs": [
        {
          "output_type": "stream",
          "name": "stdout",
          "text": [
            "remote: Enumerating objects: 10, done.\u001b[K\n",
            "remote: Counting objects:  11% (1/9)\u001b[K\rremote: Counting objects:  22% (2/9)\u001b[K\rremote: Counting objects:  33% (3/9)\u001b[K\rremote: Counting objects:  44% (4/9)\u001b[K\rremote: Counting objects:  55% (5/9)\u001b[K\rremote: Counting objects:  66% (6/9)\u001b[K\rremote: Counting objects:  77% (7/9)\u001b[K\rremote: Counting objects:  88% (8/9)\u001b[K\rremote: Counting objects: 100% (9/9)\u001b[K\rremote: Counting objects: 100% (9/9), done.\u001b[K\n",
            "remote: Compressing objects:  33% (1/3)\u001b[K\rremote: Compressing objects:  66% (2/3)\u001b[K\rremote: Compressing objects: 100% (3/3)\u001b[K\rremote: Compressing objects: 100% (3/3), done.\u001b[K\n",
            "Unpacking objects:  16% (1/6)\rUnpacking objects:  33% (2/6)\rUnpacking objects:  50% (3/6)\rUnpacking objects:  66% (4/6)\rUnpacking objects:  83% (5/6)\rUnpacking objects: 100% (6/6)\rUnpacking objects: 100% (6/6), 2.23 KiB | 2.23 MiB/s, done.\n",
            "remote: Total 6 (delta 3), reused 6 (delta 3), pack-reused 0 (from 0)\u001b[K\n",
            "From https://github.com/priscilla254/synthetic_dataset_for_age_estimation\n",
            " * branch            main       -> FETCH_HEAD\n",
            "   ba9572b..9947fd9  main       -> origin/main\n",
            "Updating ba9572b..9947fd9\n",
            "Fast-forward\n",
            " scripts/extract_arcface_embeddings.py | 119 \u001b[32m++++++++++++++++++++++++++++++++++\u001b[m\n",
            " 1 file changed, 119 insertions(+)\n",
            " create mode 100644 scripts/extract_arcface_embeddings.py\n"
          ]
        }
      ]
    },
    {
      "cell_type": "code",
      "source": [
        "ls scripts\n"
      ],
      "metadata": {
        "colab": {
          "base_uri": "https://localhost:8080/"
        },
        "id": "DLI3SE2NLORO",
        "outputId": "fc0a9f2d-99fa-48bc-c42b-8f7038b5ebeb"
      },
      "execution_count": 9,
      "outputs": [
        {
          "output_type": "stream",
          "name": "stdout",
          "text": [
            "extract_arcface_embeddings.py  generate_sdxl_passport_variants.py\n",
            "genarate_sdxl_images.py        train.py\n"
          ]
        }
      ]
    },
    {
      "cell_type": "code",
      "source": [
        "!python scripts/extract_arcface_embeddings.py \\\n",
        "  --images /content/drive/MyDrive/ai-workspace/outputs/sdxl_passport_25yo \\\n",
        "  --out    /content/drive/MyDrive/ai-workspace/outputs/sdxl_passport_25yo_embeddings \\\n",
        "  --save-aligned \\\n",
        "  --gpu 0\n"
      ],
      "metadata": {
        "colab": {
          "base_uri": "https://localhost:8080/"
        },
        "id": "vAjOOoe9KlTl",
        "outputId": "fd5c4c02-e87a-4848-cc27-e0f5b0d930c8"
      },
      "execution_count": 10,
      "outputs": [
        {
          "output_type": "stream",
          "name": "stdout",
          "text": [
            "Traceback (most recent call last):\n",
            "  File \"/usr/local/lib/python3.12/dist-packages/insightface/__init__.py\", line 8, in <module>\n",
            "    import onnxruntime\n",
            "ModuleNotFoundError: No module named 'onnxruntime'\n",
            "\n",
            "During handling of the above exception, another exception occurred:\n",
            "\n",
            "Traceback (most recent call last):\n",
            "  File \"/content/synthetic_dataset_for_age_estimation/scripts/extract_arcface_embeddings.py\", line 18, in <module>\n",
            "    import insightface\n",
            "  File \"/usr/local/lib/python3.12/dist-packages/insightface/__init__.py\", line 10, in <module>\n",
            "    raise ImportError(\n",
            "ImportError: Unable to import dependency onnxruntime. \n"
          ]
        }
      ]
    }
  ]
}