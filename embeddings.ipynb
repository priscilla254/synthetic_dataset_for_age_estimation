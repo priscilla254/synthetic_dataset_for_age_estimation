{
  "nbformat": 4,
  "nbformat_minor": 0,
  "metadata": {
    "colab": {
      "provenance": [],
      "gpuType": "T4",
      "authorship_tag": "ABX9TyOpZ6gCiiNg08+NIRgAaiKc",
      "include_colab_link": true
    },
    "kernelspec": {
      "name": "python3",
      "display_name": "Python 3"
    },
    "language_info": {
      "name": "python"
    },
    "accelerator": "GPU"
  },
  "cells": [
    {
      "cell_type": "markdown",
      "metadata": {
        "id": "view-in-github",
        "colab_type": "text"
      },
      "source": [
        "<a href=\"https://colab.research.google.com/github/priscilla254/synthetic_dataset_for_age_estimation/blob/main/embeddings.ipynb\" target=\"_parent\"><img src=\"https://colab.research.google.com/assets/colab-badge.svg\" alt=\"Open In Colab\"/></a>"
      ]
    },
    {
      "cell_type": "code",
      "execution_count": 1,
      "metadata": {
        "colab": {
          "base_uri": "https://localhost:8080/"
        },
        "id": "-I3UOGkXKAGG",
        "outputId": "25e6e2b4-9604-4506-9926-188363432fa8"
      },
      "outputs": [
        {
          "output_type": "stream",
          "name": "stdout",
          "text": [
            "Mounted at /content/drive\n"
          ]
        }
      ],
      "source": [
        "from google.colab import drive\n",
        "drive.mount('/content/drive', force_remount=True)\n"
      ]
    },
    {
      "cell_type": "code",
      "source": [
        "# 1) Remove conflicting packages that require NumPy>=2\n",
        "!pip -q uninstall -y opencv-python opencv-contrib-python opencv-python-headless thinc spacy\n",
        "\n",
        "# 2) Ensure NumPy 1.26 stays installed\n",
        "!pip -q install \"numpy==1.26.4\"\n",
        "\n",
        "# 3) Install OpenCV compatible with NumPy 1.26 (Py3.12 wheels available)\n",
        "!pip -q install \"opencv-python-headless==4.10.0.84\"\n",
        "\n",
        "# 4) (Re)install ORT + InsightFace (GPU if available, else CPU)\n",
        "import shutil, sys, subprocess, os\n",
        "gpu = shutil.which(\"nvidia-smi\") is not None\n",
        "pkg = \"onnxruntime-gpu==1.18.0\" if gpu else \"onnxruntime==1.18.0\"\n",
        "subprocess.check_call([sys.executable, \"-m\", \"pip\", \"install\", \"-U\", pkg, \"insightface\", \"onnx\"])\n",
        "print(\"Installed:\", pkg)\n",
        "\n",
        "# 5) Hard restart so C-extensions bind to the pinned NumPy\n",
        "os.kill(os.getpid(), 9)\n",
        "\n"
      ],
      "metadata": {
        "id": "Si26wJhGkC5_",
        "outputId": "a8970310-a175-48eb-ed52-eaa0b14059c1",
        "colab": {
          "base_uri": "https://localhost:8080/"
        }
      },
      "execution_count": null,
      "outputs": [
        {
          "output_type": "stream",
          "name": "stdout",
          "text": [
            "\u001b[33mWARNING: Skipping opencv-python as it is not installed.\u001b[0m\u001b[33m\n",
            "\u001b[0m\u001b[33mWARNING: Skipping opencv-contrib-python as it is not installed.\u001b[0m\u001b[33m\n",
            "\u001b[0m\u001b[33mWARNING: Skipping thinc as it is not installed.\u001b[0m\u001b[33m\n",
            "\u001b[0m\u001b[33mWARNING: Skipping spacy as it is not installed.\u001b[0m\u001b[33m\n",
            "\u001b[0m"
          ]
        }
      ]
    },
    {
      "cell_type": "code",
      "source": [
        "# remove both to avoid conflicts\n",
        "!pip -q uninstall -y onnxruntime onnxruntime-gpu\n",
        "# install GPU build matching our NumPy 1.26 pin\n",
        "!pip -q install onnxruntime-gpu==1.18.0\n",
        "import os; os.kill(os.getpid(), 9)  # restart runtime\n"
      ],
      "metadata": {
        "id": "7T4MRAhMnKJ4",
        "outputId": "3decb7f1-cd4b-4843-a2fc-1202ae23c9fb",
        "colab": {
          "base_uri": "https://localhost:8080/"
        }
      },
      "execution_count": null,
      "outputs": [
        {
          "output_type": "stream",
          "name": "stdout",
          "text": [
            "\u001b[33mWARNING: Skipping onnxruntime as it is not installed.\u001b[0m\u001b[33m\n",
            "\u001b[0m"
          ]
        }
      ]
    },
    {
      "cell_type": "code",
      "source": [
        "import onnxruntime as ort\n",
        "print(\"ORT available providers:\", ort.get_available_providers())\n",
        "\n",
        "from insightface.app import FaceAnalysis\n",
        "app = FaceAnalysis(providers=[\"CUDAExecutionProvider\",\"CPUExecutionProvider\"])\n",
        "app.prepare(ctx_id=0, det_size=(640,640))\n",
        "\n",
        "# Peek at the recognition model's session (ArcFace)\n",
        "rec_sess = app.models[\"recognition\"].session\n",
        "print(\"Recognition session providers:\", rec_sess.get_providers())\n"
      ],
      "metadata": {
        "id": "MveRfe_LkFtl",
        "outputId": "1b80cec6-2680-41ce-b303-37dace9b6188",
        "colab": {
          "base_uri": "https://localhost:8080/"
        }
      },
      "execution_count": 1,
      "outputs": [
        {
          "output_type": "stream",
          "name": "stdout",
          "text": [
            "ORT available providers: ['TensorrtExecutionProvider', 'CUDAExecutionProvider', 'AzureExecutionProvider', 'CPUExecutionProvider']\n",
            "Applied providers: ['CPUExecutionProvider'], with options: {'CPUExecutionProvider': {}}\n",
            "find model: /root/.insightface/models/buffalo_l/1k3d68.onnx landmark_3d_68 ['None', 3, 192, 192] 0.0 1.0\n",
            "Applied providers: ['CPUExecutionProvider'], with options: {'CPUExecutionProvider': {}}\n",
            "find model: /root/.insightface/models/buffalo_l/2d106det.onnx landmark_2d_106 ['None', 3, 192, 192] 0.0 1.0\n",
            "Applied providers: ['CPUExecutionProvider'], with options: {'CPUExecutionProvider': {}}\n",
            "find model: /root/.insightface/models/buffalo_l/det_10g.onnx detection [1, 3, '?', '?'] 127.5 128.0\n",
            "Applied providers: ['CPUExecutionProvider'], with options: {'CPUExecutionProvider': {}}\n",
            "find model: /root/.insightface/models/buffalo_l/genderage.onnx genderage ['None', 3, 96, 96] 0.0 1.0\n",
            "Applied providers: ['CPUExecutionProvider'], with options: {'CPUExecutionProvider': {}}\n",
            "find model: /root/.insightface/models/buffalo_l/w600k_r50.onnx recognition ['None', 3, 112, 112] 127.5 127.5\n",
            "set det-size: (640, 640)\n",
            "Recognition session providers: ['CPUExecutionProvider']\n"
          ]
        }
      ]
    },
    {
      "cell_type": "code",
      "source": [
        "!git clone https://github.com/priscilla254/synthetic_dataset_for_age_estimation.git"
      ],
      "metadata": {
        "colab": {
          "base_uri": "https://localhost:8080/"
        },
        "id": "TUWgIINAKYG4",
        "outputId": "44960b76-aef2-4859-c7dc-f74bc47eda20"
      },
      "execution_count": 2,
      "outputs": [
        {
          "output_type": "stream",
          "name": "stdout",
          "text": [
            "fatal: destination path 'synthetic_dataset_for_age_estimation' already exists and is not an empty directory.\n"
          ]
        }
      ]
    },
    {
      "cell_type": "code",
      "source": [
        "!pwd"
      ],
      "metadata": {
        "colab": {
          "base_uri": "https://localhost:8080/"
        },
        "id": "_HwmZX9DKjBr",
        "outputId": "ef173780-be17-412c-9684-cde0f3182c12"
      },
      "execution_count": 3,
      "outputs": [
        {
          "output_type": "stream",
          "name": "stdout",
          "text": [
            "/content\n"
          ]
        }
      ]
    },
    {
      "cell_type": "code",
      "source": [
        "cd synthetic_dataset_for_age_estimation/"
      ],
      "metadata": {
        "colab": {
          "base_uri": "https://localhost:8080/"
        },
        "id": "h97Epf-FKjrJ",
        "outputId": "d1c58bbf-69c8-4763-9e98-5147bcb1edcb"
      },
      "execution_count": 4,
      "outputs": [
        {
          "output_type": "stream",
          "name": "stdout",
          "text": [
            "/content/synthetic_dataset_for_age_estimation\n"
          ]
        }
      ]
    },
    {
      "cell_type": "code",
      "source": [
        "!git pull origin main"
      ],
      "metadata": {
        "colab": {
          "base_uri": "https://localhost:8080/"
        },
        "id": "Nhv1Ma6cLoHC",
        "outputId": "8c97c7b0-fca8-4e75-93c7-f83bf4310d99"
      },
      "execution_count": 5,
      "outputs": [
        {
          "output_type": "stream",
          "name": "stdout",
          "text": [
            "From https://github.com/priscilla254/synthetic_dataset_for_age_estimation\n",
            " * branch            main       -> FETCH_HEAD\n",
            "Already up to date.\n"
          ]
        }
      ]
    },
    {
      "cell_type": "code",
      "source": [
        "ls scripts\n"
      ],
      "metadata": {
        "colab": {
          "base_uri": "https://localhost:8080/"
        },
        "id": "DLI3SE2NLORO",
        "outputId": "162fad3c-bcff-476a-e53c-ae8988518780"
      },
      "execution_count": 6,
      "outputs": [
        {
          "output_type": "stream",
          "name": "stdout",
          "text": [
            "extract_arcface_embeddings.py  generate_sdxl_passport_variants.py\n",
            "genarate_sdxl_images.py        train.py\n"
          ]
        }
      ]
    },
    {
      "cell_type": "code",
      "source": [
        "!python scripts/extract_arcface_embeddings.py \\\n",
        "  --images /content/drive/MyDrive/ai-workspace/outputs/sdxl_passport_25yo \\\n",
        "  --out    /content/drive/MyDrive/ai-workspace/outputs/sdxl_passport_25yo_embeddings \\\n",
        "  --save-aligned \\\n",
        "  --gpu 0\n"
      ],
      "metadata": {
        "colab": {
          "base_uri": "https://localhost:8080/"
        },
        "id": "vAjOOoe9KlTl",
        "outputId": "bbfd7cc9-eaa1-4f2d-d00e-7a8ca506b52d"
      },
      "execution_count": 7,
      "outputs": [
        {
          "output_type": "stream",
          "name": "stdout",
          "text": [
            "\u001b[1;31m2025-09-30 07:54:32.856083078 [E:onnxruntime:Default, provider_bridge_ort.cc:1744 TryGetProviderInfo_CUDA] /onnxruntime_src/onnxruntime/core/session/provider_bridge_ort.cc:1426 onnxruntime::Provider& onnxruntime::ProviderLibrary::Get() [ONNXRuntimeError] : 1 : FAIL : Failed to load library libonnxruntime_providers_cuda.so with error: libcublasLt.so.11: cannot open shared object file: No such file or directory\n",
            "\u001b[m\n",
            "Applied providers: ['CPUExecutionProvider'], with options: {'CPUExecutionProvider': {}}\n",
            "find model: /root/.insightface/models/buffalo_l/1k3d68.onnx landmark_3d_68 ['None', 3, 192, 192] 0.0 1.0\n",
            "\u001b[1;31m2025-09-30 07:54:33.419007090 [E:onnxruntime:Default, provider_bridge_ort.cc:1744 TryGetProviderInfo_CUDA] /onnxruntime_src/onnxruntime/core/session/provider_bridge_ort.cc:1426 onnxruntime::Provider& onnxruntime::ProviderLibrary::Get() [ONNXRuntimeError] : 1 : FAIL : Failed to load library libonnxruntime_providers_cuda.so with error: libcublasLt.so.11: cannot open shared object file: No such file or directory\n",
            "\u001b[m\n",
            "Applied providers: ['CPUExecutionProvider'], with options: {'CPUExecutionProvider': {}}\n",
            "find model: /root/.insightface/models/buffalo_l/2d106det.onnx landmark_2d_106 ['None', 3, 192, 192] 0.0 1.0\n",
            "\u001b[1;31m2025-09-30 07:54:33.443358337 [E:onnxruntime:Default, provider_bridge_ort.cc:1744 TryGetProviderInfo_CUDA] /onnxruntime_src/onnxruntime/core/session/provider_bridge_ort.cc:1426 onnxruntime::Provider& onnxruntime::ProviderLibrary::Get() [ONNXRuntimeError] : 1 : FAIL : Failed to load library libonnxruntime_providers_cuda.so with error: libcublasLt.so.11: cannot open shared object file: No such file or directory\n",
            "\u001b[m\n",
            "Applied providers: ['CPUExecutionProvider'], with options: {'CPUExecutionProvider': {}}\n",
            "find model: /root/.insightface/models/buffalo_l/det_10g.onnx detection [1, 3, '?', '?'] 127.5 128.0\n",
            "\u001b[1;31m2025-09-30 07:54:33.479045548 [E:onnxruntime:Default, provider_bridge_ort.cc:1744 TryGetProviderInfo_CUDA] /onnxruntime_src/onnxruntime/core/session/provider_bridge_ort.cc:1426 onnxruntime::Provider& onnxruntime::ProviderLibrary::Get() [ONNXRuntimeError] : 1 : FAIL : Failed to load library libonnxruntime_providers_cuda.so with error: libcublasLt.so.11: cannot open shared object file: No such file or directory\n",
            "\u001b[m\n",
            "Applied providers: ['CPUExecutionProvider'], with options: {'CPUExecutionProvider': {}}\n",
            "find model: /root/.insightface/models/buffalo_l/genderage.onnx genderage ['None', 3, 96, 96] 0.0 1.0\n",
            "\u001b[1;31m2025-09-30 07:54:33.596162182 [E:onnxruntime:Default, provider_bridge_ort.cc:1744 TryGetProviderInfo_CUDA] /onnxruntime_src/onnxruntime/core/session/provider_bridge_ort.cc:1426 onnxruntime::Provider& onnxruntime::ProviderLibrary::Get() [ONNXRuntimeError] : 1 : FAIL : Failed to load library libonnxruntime_providers_cuda.so with error: libcublasLt.so.11: cannot open shared object file: No such file or directory\n",
            "\u001b[m\n",
            "Applied providers: ['CPUExecutionProvider'], with options: {'CPUExecutionProvider': {}}\n",
            "find model: /root/.insightface/models/buffalo_l/w600k_r50.onnx recognition ['None', 3, 112, 112] 127.5 127.5\n",
            "set det-size: (640, 640)\n",
            "Extracting embeddings:   0% 0/200 [00:00<?, ?it/s]/usr/local/lib/python3.12/dist-packages/insightface/utils/transform.py:68: FutureWarning: `rcond` parameter will change to the default of machine precision times ``max(M, N)`` where M and N are the input matrix dimensions.\n",
            "To use the future default and silence this warning we advise to pass `rcond=None`, to keep using the old, explicitly pass `rcond=-1`.\n",
            "  P = np.linalg.lstsq(X_homo, Y)[0].T # Affine matrix. 3 x 4\n",
            "Extracting embeddings: 100% 200/200 [03:56<00:00,  1.18s/it]\n",
            "Saved embeddings: (182, 512) → /content/drive/MyDrive/ai-workspace/outputs/sdxl_passport_25yo_embeddings/embeddings.npy\n",
            "Saved manifest: /content/drive/MyDrive/ai-workspace/outputs/sdxl_passport_25yo_embeddings/embeddings.csv\n",
            "Aligned crops (if any): /content/drive/MyDrive/ai-workspace/outputs/sdxl_passport_25yo_embeddings/aligned\n"
          ]
        }
      ]
    }
  ]
}