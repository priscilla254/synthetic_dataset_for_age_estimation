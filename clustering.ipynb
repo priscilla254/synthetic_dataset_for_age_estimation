{
  "nbformat": 4,
  "nbformat_minor": 0,
  "metadata": {
    "colab": {
      "provenance": [],
      "authorship_tag": "ABX9TyMeUgqOMt6VGMusEV7PECu2",
      "include_colab_link": true
    },
    "kernelspec": {
      "name": "python3",
      "display_name": "Python 3"
    },
    "language_info": {
      "name": "python"
    }
  },
  "cells": [
    {
      "cell_type": "markdown",
      "metadata": {
        "id": "view-in-github",
        "colab_type": "text"
      },
      "source": [
        "<a href=\"https://colab.research.google.com/github/priscilla254/synthetic_dataset_for_age_estimation/blob/main/clustering.ipynb\" target=\"_parent\"><img src=\"https://colab.research.google.com/assets/colab-badge.svg\" alt=\"Open In Colab\"/></a>"
      ]
    },
    {
      "cell_type": "code",
      "source": [
        "from google.colab import drive\n",
        "drive.mount('/content/drive')"
      ],
      "metadata": {
        "colab": {
          "base_uri": "https://localhost:8080/"
        },
        "id": "vdanvn72j7nl",
        "outputId": "aa7a4b84-c415-44ad-b8fe-09d8508546a4"
      },
      "execution_count": 1,
      "outputs": [
        {
          "output_type": "stream",
          "name": "stdout",
          "text": [
            "Mounted at /content/drive\n"
          ]
        }
      ]
    },
    {
      "cell_type": "code",
      "execution_count": 2,
      "metadata": {
        "id": "vB3ymwkkjSra"
      },
      "outputs": [],
      "source": [
        "import numpy as np, pandas as pd\n",
        "\n",
        "EMB_NPY = \"/content/drive/MyDrive/ai-workspace/outputs/sdxl_passport_25yo_embeddings/embeddings.npy\"\n",
        "EMB_CSV = \"/content/drive/MyDrive/ai-workspace/outputs/sdxl_passport_25yo_embeddings/embeddings.csv\"\n",
        "\n",
        "X = np.load(EMB_NPY)                 # (num_faces_detected, 512)\n",
        "df = pd.read_csv(EMB_CSV)\n",
        "df[\"has_face\"] = df[\"has_face\"].astype(int)\n",
        "mask = df[\"has_face\"] == 1\n",
        "df_faces = df.loc[mask].copy()\n",
        "\n",
        "assert len(df_faces) == X.shape[0], (len(df_faces), X.shape[0])  # should match\n"
      ]
    },
    {
      "cell_type": "code",
      "source": [
        "from numpy.linalg import norm\n",
        "Xn = X / (norm(X, axis=1, keepdims=True) + 1e-12)\n",
        "\n",
        "from sklearn.cluster import DBSCAN\n",
        "def run_dbscan(eps):\n",
        "    return DBSCAN(eps=eps, min_samples=3, metric=\"cosine\").fit_predict(Xn)\n",
        "\n",
        "for eps in [0.25, 0.3, 0.35, 0.4, 0.45, 0.5]:\n",
        "    labs = run_dbscan(eps)\n",
        "    n_clusters = len(set(labs)) - (1 if -1 in labs else 0)\n",
        "    noise = (labs == -1).sum()\n",
        "    print(f\"eps={eps:.2f}: clusters={n_clusters}, noise={noise}\")\n"
      ],
      "metadata": {
        "id": "Avz5ZoaFDLJa",
        "outputId": "d3a6816d-3e23-498a-d18e-30394680ed25",
        "colab": {
          "base_uri": "https://localhost:8080/"
        }
      },
      "execution_count": 3,
      "outputs": [
        {
          "output_type": "stream",
          "name": "stdout",
          "text": [
            "eps=0.25: clusters=0, noise=182\n",
            "eps=0.30: clusters=0, noise=182\n",
            "eps=0.35: clusters=0, noise=182\n",
            "eps=0.40: clusters=2, noise=175\n",
            "eps=0.45: clusters=4, noise=124\n",
            "eps=0.50: clusters=2, noise=45\n"
          ]
        }
      ]
    },
    {
      "cell_type": "code",
      "source": [
        "from sklearn.cluster import KMeans\n",
        "from sklearn.metrics import silhouette_score\n",
        "\n",
        "best = None\n",
        "for k in range(2, 15):\n",
        "    km = KMeans(n_clusters=k, n_init=10, random_state=42).fit(Xn)\n",
        "    s = silhouette_score(Xn, km.labels_, metric=\"cosine\")\n",
        "    best = max(best or (-1,None,None), (s, k, km), key=lambda z: z[0])\n",
        "    print(f\"k={k:2d}  silhouette={s:.3f}\")\n",
        "sil_score, k_star, km_model = best\n",
        "print(\"Chosen k:\", k_star, \"silhouette:\", sil_score)\n",
        "\n",
        "labels = km_model.labels_\n",
        "df[\"cluster\"] = np.nan\n",
        "df.loc[mask, \"cluster\"] = labels\n"
      ],
      "metadata": {
        "id": "wtgb0n4YFX9-",
        "outputId": "95f9382d-da82-4366-eea7-bbd68db9b3b6",
        "colab": {
          "base_uri": "https://localhost:8080/"
        }
      },
      "execution_count": 4,
      "outputs": [
        {
          "output_type": "stream",
          "name": "stdout",
          "text": [
            "k= 2  silhouette=0.248\n",
            "k= 3  silhouette=0.160\n",
            "k= 4  silhouette=0.040\n",
            "k= 5  silhouette=0.035\n",
            "k= 6  silhouette=0.034\n",
            "k= 7  silhouette=0.031\n",
            "k= 8  silhouette=0.026\n",
            "k= 9  silhouette=0.023\n",
            "k=10  silhouette=0.023\n",
            "k=11  silhouette=0.019\n",
            "k=12  silhouette=0.021\n",
            "k=13  silhouette=0.018\n",
            "k=14  silhouette=0.008\n",
            "Chosen k: 2 silhouette: 0.24750741\n"
          ]
        }
      ]
    }
  ]
}